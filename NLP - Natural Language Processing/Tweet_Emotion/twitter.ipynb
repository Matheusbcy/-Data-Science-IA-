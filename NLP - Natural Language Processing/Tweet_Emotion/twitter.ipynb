{
 "cells": [
  {
   "cell_type": "code",
   "execution_count": null,
   "id": "84204e56",
   "metadata": {},
   "outputs": [],
   "source": [
    "import bs4 as bs\n",
    "import spacy\n",
    "import pandas as pd\n",
    "import string\n",
    "import random\n",
    "import numpy as np\n",
    "import matplotlib.pyplot as plt\n",
    "\n",
    "from spacy.training.example import Example\n",
    "from spacy.util import compounding\n",
    "from spacy.lang.pt.stop_words import STOP_WORDS\n",
    "from sklearn.metrics import confusion_matrix, accuracy_score"
   ]
  },
  {
   "cell_type": "code",
   "execution_count": null,
   "id": "a9040711",
   "metadata": {},
   "outputs": [],
   "source": [
    "nlp = spacy.load(\"pt_core_news_sm\")\n",
    "\n",
    "# Carregamento dos dados\n",
    "dataset = pd.read_csv(\"Train50.csv\", sep=\";\", encoding= \"utf-8\")\n",
    "\n",
    "# Função para preprocessamento do texto\n",
    "stop_words = STOP_WORDS\n",
    "points = string.punctuation\n",
    "\n",
    "def preprocess_text(text):\n",
    "    text = text.lower()\n",
    "    doc = nlp(text)\n",
    "    \n",
    "    list_tokens = []\n",
    "    for token in doc:\n",
    "        list_tokens.append(token.lemma_)\n",
    "        \n",
    "    lista_tokens = [token for token in list_tokens if token not in stop_words and token not in points]\n",
    "    lista_tokens = [\" \".join([str(element) for element in lista_tokens if not element.isdigit()])]\n",
    "    return lista_tokens\n",
    "\n",
    "# Pré-processamento da base de dados\n",
    "dataset[\"tweet_text\"] = dataset[\"tweet_text\"].apply(preprocess_text)"
   ]
  },
  {
   "cell_type": "code",
   "execution_count": null,
   "id": "c48c500d",
   "metadata": {},
   "outputs": [],
   "source": [
    "# Tratamento de classe\n",
    "exemple_database = [[\"este trabalho é agradavel\", {\"ALEGRIA\": True, \"MEDO\": False}], [\"este lugar continua assustador\", {\"ALEGRIA\": False, \"MEDO\": True}]]\n",
    "database_final = []\n",
    "\n",
    "for text, emotion in zip(dataset[\"tweet_text\"], dataset[\"sentiment\"]):\n",
    "    if isinstance(text, list):\n",
    "        text = \" \".join(text)\n",
    "    if emotion == 1:\n",
    "        dic = {\"ALEGRIA\": True, \"MEDO\": False}\n",
    "    elif emotion == 0:\n",
    "        dic = {\"ALEGRIA\": False, \"MEDO\": True}\n",
    "    database_final.append([text, dic.copy()])"
   ]
  },
  {
   "cell_type": "code",
   "execution_count": null,
   "id": "14e271fd",
   "metadata": {},
   "outputs": [],
   "source": [
    "# Criação do classificador\n",
    "model = spacy.blank(\"pt\")\n",
    "category = model.add_pipe(\"textcat\")\n",
    "category.add_label(\"ALEGRIA\")\n",
    "category.add_label(\"MEDO\")\n",
    "history = []\n",
    "model.begin_training()\n",
    "\n",
    "for e in range(30):\n",
    "    random.shuffle(database_final)\n",
    "    losses = {}\n",
    "    batch_sizes = compounding(32.0, 256.0, 1.5)\n",
    "    \n",
    "    # Mini-batches de 1000 exemplos\n",
    "    for batch in spacy.util.minibatch(database_final, size = batch_sizes):\n",
    "        exemples = []\n",
    "        \n",
    "        for text, category in batch:\n",
    "            doc = model.make_doc(text)\n",
    "            exemple = Example.from_dict(doc, {\"cats\": category})\n",
    "            exemples.append(exemple)\n",
    "            \n",
    "        model.update(exemples, losses= losses)\n",
    "        \n",
    "    if e % 3 == 0:\n",
    "        print(f\"Epoca {e}: {losses}\")\n",
    "        history.append(losses)"
   ]
  },
  {
   "cell_type": "code",
   "execution_count": 64,
   "id": "52b2f7b7",
   "metadata": {},
   "outputs": [
    {
     "data": {
      "image/png": "[encoded data removed]",
      "text/plain": [
       "<Figure size 640x480 with 1 Axes>"
      ]
     },
     "metadata": {},
     "output_type": "display_data"
    }
   ],
   "source": [
    "# Plotando a evolução do erro\n",
    "history_loss = []\n",
    "\n",
    "for i in history:\n",
    "    history_loss.append(i.get(\"textcat\"))\n",
    "    \n",
    "history_loss = np.array(history_loss)\n",
    "plt.plot(history_loss)\n",
    "plt.title(\"Progressão do Erro\")\n",
    "plt.xlabel(\"Épocas\")\n",
    "plt.ylabel(\"Erro\")\n",
    "plt.show()"
   ]
  },
  {
   "cell_type": "code",
   "execution_count": null,
   "id": "bdc3732b",
   "metadata": {},
   "outputs": [],
   "source": [
    "# Salvando o modelo treinado\n",
    "model.to_disk(\"model_twitter\")"
   ]
  },
  {
   "cell_type": "code",
   "execution_count": null,
   "id": "38e57ccf",
   "metadata": {},
   "outputs": [],
   "source": [
    "# Carregando o modelo treinado\n",
    "model = spacy.load(\"model_twitter\")"
   ]
  },
  {
   "cell_type": "code",
   "execution_count": 65,
   "id": "62d2e494",
   "metadata": {},
   "outputs": [
    {
     "data": {
      "text/plain": [
       "{'ALEGRIA': 0.9999998807907104, 'MEDO': 9.024327596307558e-08}"
      ]
     },
     "execution_count": 65,
     "metadata": {},
     "output_type": "execute_result"
    }
   ],
   "source": [
    "# Teste com uma frase alegre\n",
    "text_positive = \"Me permito ser feliz, mesmo que só por um instante de cada vez.\"\n",
    "token = preprocess_text(text_positive)\n",
    "text_processed = \" \".join(token)\n",
    "prev = model(text_processed)\n",
    "prev.cats"
   ]
  },
  {
   "cell_type": "code",
   "execution_count": null,
   "id": "1b968613",
   "metadata": {},
   "outputs": [],
   "source": [
    "# AValiaçao do modelo\n",
    "prevs = []\n",
    "\n",
    "for texts in dataset[\"tweet_text\"]:\n",
    "    if isinstance(texts, list):\n",
    "        texts = \" \".join(texts)\n",
    "    prev = model(texts)\n",
    "    prevs.append(prev.cats)\n",
    "    \n",
    "prevs_final = []\n",
    "\n",
    "for prev in prevs:\n",
    "    if prev[\"ALEGRIA\"] > prev[\"MEDO\"]:\n",
    "        prevs_final.append(1)\n",
    "    else:\n",
    "        prevs_final.append(0)\n",
    "\n",
    "prevs_final = np.array(prevs_final)\n",
    "response_test = dataset[\"sentiment\"].values"
   ]
  },
  {
   "cell_type": "code",
   "execution_count": null,
   "id": "efd096c8",
   "metadata": {},
   "outputs": [
    {
     "data": {
      "text/plain": [
       "1.0"
      ]
     },
     "execution_count": 69,
     "metadata": {},
     "output_type": "execute_result"
    }
   ],
   "source": [
    "# Avaliação final do modelo com accuracy\n",
    "accuracy_score(response_test, prevs_final)"
   ]
  },
  {
   "cell_type": "code",
   "execution_count": null,
   "id": "d14ddd1b",
   "metadata": {},
   "outputs": [
    {
     "data": {
      "text/plain": [
       "array([[25000,     0],\n",
       "       [    0, 25000]])"
      ]
     },
     "execution_count": 71,
     "metadata": {},
     "output_type": "execute_result"
    }
   ],
   "source": [
    "# Avaliação final do modelo com matriz de confusão\n",
    "cm = confusion_matrix(response_test, prevs_final)\n",
    "cm"
   ]
  },
  {
   "cell_type": "code",
   "execution_count": 72,
   "id": "7452eeff",
   "metadata": {},
   "outputs": [],
   "source": [
    "# Avaliando na base de teste\n",
    "database_test = pd.read_csv(\"Test.csv\", sep=\";\", encoding=\"utf-8\")\n",
    "database_test[\"tweet_text\"] = database_test[\"tweet_text\"].apply(preprocess_text)\n",
    "\n",
    "prevs = []\n",
    "\n",
    "for texts in database_test[\"tweet_text\"]:\n",
    "    if isinstance(texts, list):\n",
    "        texts = \" \".join(texts)\n",
    "    prev = model(texts)\n",
    "    prevs.append(prev.cats)\n",
    "    \n",
    "prevs_final = []\n",
    "\n",
    "for prev in prevs:\n",
    "    if prev[\"ALEGRIA\"] > prev[\"MEDO\"]:\n",
    "        prevs_final.append(1)\n",
    "    else:\n",
    "        prevs_final.append(0)\n",
    "\n",
    "prevs_final = np.array(prevs_final)\n",
    "response_test = database_test[\"sentiment\"].values"
   ]
  },
  {
   "cell_type": "code",
   "execution_count": null,
   "id": "55c3d462",
   "metadata": {},
   "outputs": [
    {
     "data": {
      "text/plain": [
       "0.9986"
      ]
     },
     "execution_count": 73,
     "metadata": {},
     "output_type": "execute_result"
    }
   ],
   "source": [
    "# Avaliação final do modelo com accuracy\n",
    "accuracy_score(response_test, prevs_final)"
   ]
  },
  {
   "cell_type": "code",
   "execution_count": null,
   "id": "2e142677",
   "metadata": {},
   "outputs": [
    {
     "data": {
      "text/plain": [
       "array([[2496,    4],\n",
       "       [   3, 2497]])"
      ]
     },
     "execution_count": 74,
     "metadata": {},
     "output_type": "execute_result"
    }
   ],
   "source": [
    "# Avaliação final do modelo com matriz de confusão\n",
    "cm = confusion_matrix(response_test, prevs_final)\n",
    "cm"
   ]
  }
 ],
 "metadata": {
  "kernelspec": {
   "display_name": "spacy_env",
   "language": "python",
   "name": "python3"
  },
  "language_info": {
   "codemirror_mode": {
    "name": "ipython",
    "version": 3
   },
   "file_extension": ".py",
   "mimetype": "text/x-python",
   "name": "python",
   "nbconvert_exporter": "python",
   "pygments_lexer": "ipython3",
   "version": "3.10.18"
  }
 },
 "nbformat": 4,
 "nbformat_minor": 5
}
