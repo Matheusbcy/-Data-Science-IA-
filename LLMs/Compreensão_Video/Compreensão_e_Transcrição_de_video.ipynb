{
  "nbformat": 4,
  "nbformat_minor": 0,
  "metadata": {
    "colab": {
      "provenance": [],
      "authorship_tag": "ABX9TyNPpA+4K49UhCPNDT2cm79N",
      "include_colab_link": true
    },
    "kernelspec": {
      "name": "python3",
      "display_name": "Python 3"
    },
    "language_info": {
      "name": "python"
    }
  },
  "cells": [
    {
      "cell_type": "markdown",
      "metadata": {
        "id": "view-in-github",
        "colab_type": "text"
      },
      "source": [
        "<a href=\"https://colab.research.google.com/github/Matheusbcy/-Data-Science-IA-/blob/main/Compreens%C3%A3o_e_Transcri%C3%A7%C3%A3o_de_video.ipynb\" target=\"_parent\"><img src=\"https://colab.research.google.com/assets/colab-badge.svg\" alt=\"Open In Colab\"/></a>"
      ]
    },
    {
      "cell_type": "markdown",
      "source": [
        "# Projeto - Trancriçao e compreensão de vídeos"
      ],
      "metadata": {
        "id": "zD6MiQlbDEqH"
      }
    },
    {
      "cell_type": "markdown",
      "source": [
        "## Instalação e Configuração\n"
      ],
      "metadata": {
        "id": "sHwmBe6TEhsj"
      }
    },
    {
      "cell_type": "code",
      "source": [
        "!pip install -q langchain_community langchain-huggingface langchain_ollama langchain_openai langchain-groq"
      ],
      "metadata": {
        "id": "_MjZsTX7Ds4T"
      },
      "execution_count": null,
      "outputs": []
    },
    {
      "cell_type": "markdown",
      "source": [
        "### Instalação de bibliotecas para baixar transcrição"
      ],
      "metadata": {
        "id": "QvV_63L6DMia"
      }
    },
    {
      "cell_type": "markdown",
      "source": [
        "#### YouTube Transcript API"
      ],
      "metadata": {
        "id": "s2vlWRiyDR0y"
      }
    },
    {
      "cell_type": "code",
      "source": [
        "!pip install youtube-transcript-api"
      ],
      "metadata": {
        "id": "O5DseUrFE1Ri"
      },
      "execution_count": null,
      "outputs": []
    },
    {
      "cell_type": "markdown",
      "source": [
        "#### pytube"
      ],
      "metadata": {
        "id": "zXb181_YEPiZ"
      }
    },
    {
      "cell_type": "code",
      "source": [
        "!pip install pytube"
      ],
      "metadata": {
        "id": "LbduBz9mE28o"
      },
      "execution_count": null,
      "outputs": []
    },
    {
      "cell_type": "markdown",
      "source": [
        "## Importações\n"
      ],
      "metadata": {
        "id": "Kfb_32UxEqUd"
      }
    },
    {
      "cell_type": "code",
      "source": [
        "import os\n",
        "import io\n",
        "import getpass\n",
        "import requests\n",
        "\n",
        "from bs4 import BeautifulSoup\n",
        "from langchain_groq import ChatGroq\n",
        "from youtube_transcript_api import YouTubeTranscriptApi\n",
        "from youtube_transcript_api.formatters import TextFormatter\n",
        "from langchain_community.llms import HuggingFaceHub\n",
        "from langchain_core.prompts import ChatPromptTemplate\n",
        "from langchain_core.output_parsers import StrOutputParser\n",
        "from IPython.display import Markdown"
      ],
      "metadata": {
        "id": "BaKowyZGFioC"
      },
      "execution_count": 48,
      "outputs": []
    },
    {
      "cell_type": "markdown",
      "source": [
        "### Carregando a transcrição"
      ],
      "metadata": {
        "id": "zpouMWdODXlI"
      }
    },
    {
      "cell_type": "code",
      "source": [
        "# ID do vídeo do YouTube. Verifique pela URL, é o que vem logo após /watch?v=\n",
        "id_video = \"46Gib0GD4Gw\"\n",
        "\n",
        "# Busca a transcrição, tentando em português e inglês\n",
        "result = YouTubeTranscriptApi().fetch(id_video, languages=[\"pt\", \"pt-BR\", \"en\"])\n",
        "\n",
        "# TextFormatter para extrair apenas o texto da transcrição, sem timestamps, e unificamos tudo em um único bloco contínuo\n",
        "formatter = TextFormatter()\n",
        "transcricao = formatter.format_transcript(result)\n",
        "\n",
        "# opcional: Substitui quebras de linha por espaços para manter tudo em uma só linha (Se não quiser isso, remova essa linha abaixo)\n",
        "transcricao = transcricao.replace('\\n', ' ')"
      ],
      "metadata": {
        "id": "Jvppn9HvDXF0"
      },
      "execution_count": 29,
      "outputs": []
    },
    {
      "cell_type": "markdown",
      "source": [
        "## Obter informações do vídeo"
      ],
      "metadata": {
        "id": "naR5i7VPHS7w"
      }
    },
    {
      "cell_type": "markdown",
      "source": [
        "### Titulo do Video"
      ],
      "metadata": {
        "id": "BLBuc4WfHBb0"
      }
    },
    {
      "cell_type": "code",
      "source": [
        "def get_video_title(url):\n",
        "  r = requests.get(url)\n",
        "  soup = BeautifulSoup(r.text)\n",
        "\n",
        "  link = soup.find_all(name=\"title\")[0]\n",
        "  title = str(link)\n",
        "  title = title.replace(\"<title>\",\"\")\n",
        "  title = title.replace(\"</title>\",\"\")\n",
        "\n",
        "  return title"
      ],
      "metadata": {
        "id": "wrn9KHYAGTf2"
      },
      "execution_count": 30,
      "outputs": []
    },
    {
      "cell_type": "code",
      "source": [
        "video_url = \"https://www.youtube.com/watch?v=46Gib0GD4Gw&ab_channel=Bucky\"\n",
        "\n",
        "video_title = get_video_title(video_url)"
      ],
      "metadata": {
        "id": "xRvjOYSwGVYS"
      },
      "execution_count": 34,
      "outputs": []
    },
    {
      "cell_type": "code",
      "source": [
        "infos_video = f\"\"\"\n",
        "Título: {video_title}\n",
        "\n",
        "Transcrição: {transcricao}\n",
        "\"\"\""
      ],
      "metadata": {
        "id": "WzYzZXXFIw_w"
      },
      "execution_count": 35,
      "outputs": []
    },
    {
      "cell_type": "markdown",
      "source": [
        "### Salvando transcrição em um arquivo"
      ],
      "metadata": {
        "id": "Ez-bFLrzIGmW"
      }
    },
    {
      "cell_type": "code",
      "source": [
        "with io.open(\"transcricao.txt\", \"w\", encoding= \"utf-8\") as f:\n",
        "    f.write(infos_video)"
      ],
      "metadata": {
        "id": "Q5OlY9uXII3d"
      },
      "execution_count": 36,
      "outputs": []
    },
    {
      "cell_type": "markdown",
      "source": [
        "## Carregamento do modelo"
      ],
      "metadata": {
        "id": "IFmNjJ5WInK6"
      }
    },
    {
      "cell_type": "code",
      "source": [
        "os.environ[\"GROQ_API_KEY\"] = getpass.getpass()"
      ],
      "metadata": {
        "colab": {
          "base_uri": "https://localhost:8080/"
        },
        "id": "nhLBMJZwKYcL",
        "outputId": "6ed405d7-e0ff-4d80-8695-ee48cf36b5bc"
      },
      "execution_count": 10,
      "outputs": [
        {
          "name": "stdout",
          "output_type": "stream",
          "text": [
            "··········\n"
          ]
        }
      ]
    },
    {
      "cell_type": "code",
      "source": [
        "def model_groq(model = \"gemma2-9b-it\", temperature = 0.7):\n",
        "  llm = ChatGroq(model = model, max_tokens=1024, timeout=None, max_retries=2, temperature = temperature)\n",
        "\n",
        "  return llm"
      ],
      "metadata": {
        "id": "LxBkhCUiIoY6"
      },
      "execution_count": 11,
      "outputs": []
    },
    {
      "cell_type": "code",
      "source": [
        "llm = model_groq()"
      ],
      "metadata": {
        "id": "g_xyruFXKwm3"
      },
      "execution_count": 12,
      "outputs": []
    },
    {
      "cell_type": "markdown",
      "source": [
        "## Criação do prompt template"
      ],
      "metadata": {
        "id": "r6whF2AUIpgj"
      }
    },
    {
      "cell_type": "code",
      "source": [
        "system_prompt = \"Você é um assistente virtual prestativo e deve responder a consulta com base na transcrição de um video, que sera fornecido abaixo.\"\n",
        "\n",
        "inputs = \"Consulta: {consulta} \\n Transcrição: {transcricao}\"\n",
        "\n",
        "user_prompt = \"{}\".format(inputs)\n",
        "\n",
        "prompt_template = ChatPromptTemplate.from_messages([(\"system\", system_prompt), (\"user\", user_prompt)])\n",
        "\n",
        "chain = prompt_template | llm | StrOutputParser()"
      ],
      "metadata": {
        "id": "9Zrc4xrtKtV3"
      },
      "execution_count": null,
      "outputs": []
    },
    {
      "cell_type": "markdown",
      "source": [
        "## Criação da chain"
      ],
      "metadata": {
        "id": "X0XvWdJwIq5z"
      }
    },
    {
      "cell_type": "markdown",
      "source": [
        "## Geração da resposta"
      ],
      "metadata": {
        "id": "L8Q-b39sCTcW"
      }
    },
    {
      "cell_type": "code",
      "source": [
        "res = chain.invoke({\"transcrição\": transcricao, \"consulta\": \"resuma\"})\n",
        "print(res)"
      ],
      "metadata": {
        "id": "9iQC7M_RCVRs"
      },
      "execution_count": null,
      "outputs": []
    },
    {
      "cell_type": "code",
      "source": [
        "res = chain.invoke({\"transcrição\": transcricao, \"consulta\": \"sumarize de forma clara de entender em pt-br\"})\n",
        "print(res)"
      ],
      "metadata": {
        "id": "zMwFxvT6DkuG"
      },
      "execution_count": null,
      "outputs": []
    },
    {
      "cell_type": "code",
      "source": [
        "res = chain.invoke({\"transcrição\": transcricao, \"consulta\": \"explique em 1 frase sobre oque fala esse video\"})\n",
        "print(res)"
      ],
      "metadata": {
        "id": "Ue7HAiGCDqPT"
      },
      "execution_count": null,
      "outputs": []
    },
    {
      "cell_type": "code",
      "source": [
        "res = chain.invoke({\"transcrição\": transcricao, \"consulta\": \"liste os temas desse video\"})\n",
        "display(Markdown(res))"
      ],
      "metadata": {
        "id": "-fMJEVpqD3GA"
      },
      "execution_count": null,
      "outputs": []
    },
    {
      "cell_type": "code",
      "source": [
        "res = chain.invoke({\"transcrição\": transcricao, \"consulta\": \"liste os temas desse video, responsa em portugues brasil, utilize markdown no retorno da resposta\"})\n",
        "display(Markdown(res))"
      ],
      "metadata": {
        "colab": {
          "base_uri": "https://localhost:8080/",
          "height": 229
        },
        "id": "hWUo5IgWD-kN",
        "outputId": "9df4d71a-8bca-4ceb-f8f4-cb2eeb994064"
      },
      "execution_count": 50,
      "outputs": [
        {
          "output_type": "display_data",
          "data": {
            "text/plain": [
              "<IPython.core.display.Markdown object>"
            ],
            "text/markdown": "## Temas do vídeo:\n\n* **Progresso no jogo \"Halfsword\":** O criador do vídeo finalmente consegue vencer o jogo após enfrentar problemas de crashes e dificuldades com o gameplay.\n* **Dificuldades e estratégias:** O vídeo mostra os desafios enfrentados pelo jogador, como encontrar armas específicas (espada longa, spear), lidar com inimigos fortes (Golden Knight) e melhorar o equipamento (armadura).\n* **Humor e interação com o público:** O vídeo é recheado de humor, com comentários sarcásticos e ironia sobre os desafios e personagens do jogo. O criador se dirige ao público, perguntando sobre futuros desafios e interagindo com o que ele considera \"bromance\" com os espectadores. \n* **Melhorias no desempenho:** O criador menciona a compra de uma nova placa de vídeo para solucionar o problema de crashes, demonstrando a importância do hardware para o jogo.\n* **Desbloqueamento de conteúdo:** O vídeo celebra o desbloqueio da última fase e a conquista de novas opções de personagens e equipamentos. \n\n\n"
          },
          "metadata": {}
        }
      ]
    }
  ]
}
