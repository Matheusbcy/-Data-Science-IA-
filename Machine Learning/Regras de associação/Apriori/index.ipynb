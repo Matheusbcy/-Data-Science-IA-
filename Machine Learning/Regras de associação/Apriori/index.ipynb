{
 "cells": [
  {
   "cell_type": "code",
   "execution_count": null,
   "id": "737499df",
   "metadata": {},
   "outputs": [],
   "source": [
    "!pip install apyori"
   ]
  },
  {
   "cell_type": "code",
   "execution_count": null,
   "id": "b9402f6b",
   "metadata": {},
   "outputs": [],
   "source": [
    "!pip install kagglehub"
   ]
  },
  {
   "cell_type": "code",
   "execution_count": null,
   "id": "443fc068",
   "metadata": {},
   "outputs": [],
   "source": [
    "import kagglehub\n",
    "import pandas as pd\n",
    "\n",
    "from apyori import apriori"
   ]
  },
  {
   "cell_type": "code",
   "execution_count": null,
   "id": "91a7ca7e",
   "metadata": {},
   "outputs": [],
   "source": [
    "path = kagglehub.dataset_download(\"aslanahmedov/market-basket-analysis\")\n",
    "print(\"Path to datasert files:\", path)"
   ]
  },
  {
   "cell_type": "code",
   "execution_count": null,
   "id": "8aed085c",
   "metadata": {},
   "outputs": [],
   "source": [
    "mba = pd.read_csv(\"Assignment-1_Data.csv\", delimiter=\";\")\n",
    "mba"
   ]
  },
  {
   "cell_type": "code",
   "execution_count": null,
   "id": "e060b17a",
   "metadata": {},
   "outputs": [],
   "source": [
    "item_freq = mba.groupby(\"Itemname\")[\"Itemname\"].count().sort_values(ascending = False)\n",
    "item_freq"
   ]
  },
  {
   "cell_type": "code",
   "execution_count": null,
   "id": "8a00cb4f",
   "metadata": {},
   "outputs": [],
   "source": [
    "item_filt = item_freq[item_freq >= 1000].index.tolist()\n",
    "len(item_filt)"
   ]
  },
  {
   "cell_type": "code",
   "execution_count": null,
   "id": "8420d371",
   "metadata": {},
   "outputs": [],
   "source": [
    "mba_filt = mba[mba[\"Itemname\"].isin(item_filt)]\n",
    "mba_filt"
   ]
  },
  {
   "cell_type": "code",
   "execution_count": null,
   "id": "0fd62dca",
   "metadata": {},
   "outputs": [],
   "source": [
    "baskets = mba_filt.groupby(\"BillNo\")[\"Itemname\"].agg(list).tolist()\n",
    "len(baskets)"
   ]
  },
  {
   "cell_type": "code",
   "execution_count": null,
   "id": "921b997a",
   "metadata": {},
   "outputs": [],
   "source": [
    "baskets = sorted(baskets, key = len, reverse = True)"
   ]
  },
  {
   "cell_type": "code",
   "execution_count": null,
   "id": "0211ca68",
   "metadata": {},
   "outputs": [],
   "source": [
    "with open(\"baskets.txt\", \"w\") as f:\n",
    "    for basket in baskets:\n",
    "        f.write(\";\".join(basket) + \"\\n\")"
   ]
  },
  {
   "cell_type": "code",
   "execution_count": null,
   "id": "460acc39",
   "metadata": {},
   "outputs": [],
   "source": [
    "# Lendo arquivo de texto\n",
    "base = pd.read_csv(\"baskets.txt\", delimiter=\";\", header=None)\n",
    "base"
   ]
  },
  {
   "cell_type": "code",
   "execution_count": null,
   "id": "185d73cd",
   "metadata": {},
   "outputs": [],
   "source": [
    "# Preencher valores vazios com NaN\n",
    "base.fillna(\"nan\", inplace = True)"
   ]
  },
  {
   "cell_type": "code",
   "execution_count": null,
   "id": "fe53ca44",
   "metadata": {},
   "outputs": [],
   "source": [
    "# Convertendo o dataframe em lista\n",
    "transactions = []\n",
    "for i in range(base.shape[0]):\n",
    "    transactions.append([str(base.values[i, j]) for j in range(base.shape[1])])"
   ]
  },
  {
   "cell_type": "code",
   "execution_count": 25,
   "id": "2d615582",
   "metadata": {},
   "outputs": [],
   "source": [
    "# Treinando o modelo Apriori\n",
    "rules = apriori(transactions, min_support = 0.02, min_confidence = 0.25, min_lift = 5)\n",
    "results = list(rules)"
   ]
  },
  {
   "cell_type": "code",
   "execution_count": 26,
   "id": "39455f61",
   "metadata": {},
   "outputs": [],
   "source": [
    "# Organizando tudo em um dataframe\n",
    "A = []\n",
    "B = []\n",
    "suporte = []\n",
    "confianca = []\n",
    "lift = []\n",
    "\n",
    "for result in results:\n",
    "  s = result[1]\n",
    "  result_rules = result[2]\n",
    "  for result_rule in result_rules:\n",
    "    a = list(result_rule[0])\n",
    "    b = list(result_rule[1])\n",
    "    c = result_rule[2]\n",
    "    l = result_rule[3]\n",
    "\n",
    "    A.append(a)\n",
    "    B.append(b)\n",
    "    suporte.append(s)\n",
    "    confianca.append(c)\n",
    "    lift.append(l)"
   ]
  },
  {
   "cell_type": "code",
   "execution_count": 27,
   "id": "d82c9583",
   "metadata": {},
   "outputs": [
    {
     "data": {
      "text/html": [
       "<div>\n",
       "<style scoped>\n",
       "    .dataframe tbody tr th:only-of-type {\n",
       "        vertical-align: middle;\n",
       "    }\n",
       "\n",
       "    .dataframe tbody tr th {\n",
       "        vertical-align: top;\n",
       "    }\n",
       "\n",
       "    .dataframe thead th {\n",
       "        text-align: right;\n",
       "    }\n",
       "</style>\n",
       "<table border=\"1\" class=\"dataframe\">\n",
       "  <thead>\n",
       "    <tr style=\"text-align: right;\">\n",
       "      <th></th>\n",
       "      <th>A</th>\n",
       "      <th>B</th>\n",
       "      <th>suporte</th>\n",
       "      <th>confianca</th>\n",
       "      <th>lift</th>\n",
       "    </tr>\n",
       "  </thead>\n",
       "  <tbody>\n",
       "    <tr>\n",
       "      <th>13</th>\n",
       "      <td>[REGENCY CAKESTAND 3 TIER, ROSES REGENCY TEACU...</td>\n",
       "      <td>[GREEN REGENCY TEACUP AND SAUCER]</td>\n",
       "      <td>0.029715</td>\n",
       "      <td>0.777096</td>\n",
       "      <td>10.192313</td>\n",
       "    </tr>\n",
       "    <tr>\n",
       "      <th>10</th>\n",
       "      <td>[GREEN REGENCY TEACUP AND SAUCER]</td>\n",
       "      <td>[REGENCY CAKESTAND 3 TIER, ROSES REGENCY TEACU...</td>\n",
       "      <td>0.029715</td>\n",
       "      <td>0.389744</td>\n",
       "      <td>10.192313</td>\n",
       "    </tr>\n",
       "    <tr>\n",
       "      <th>180</th>\n",
       "      <td>[REGENCY CAKESTAND 3 TIER, nan, ROSES REGENCY ...</td>\n",
       "      <td>[GREEN REGENCY TEACUP AND SAUCER]</td>\n",
       "      <td>0.029637</td>\n",
       "      <td>0.776639</td>\n",
       "      <td>10.186322</td>\n",
       "    </tr>\n",
       "    <tr>\n",
       "      <th>173</th>\n",
       "      <td>[GREEN REGENCY TEACUP AND SAUCER]</td>\n",
       "      <td>[REGENCY CAKESTAND 3 TIER, nan, ROSES REGENCY ...</td>\n",
       "      <td>0.029637</td>\n",
       "      <td>0.388718</td>\n",
       "      <td>10.186322</td>\n",
       "    </tr>\n",
       "    <tr>\n",
       "      <th>177</th>\n",
       "      <td>[REGENCY CAKESTAND 3 TIER, ROSES REGENCY TEACU...</td>\n",
       "      <td>[GREEN REGENCY TEACUP AND SAUCER, nan]</td>\n",
       "      <td>0.029637</td>\n",
       "      <td>0.775051</td>\n",
       "      <td>10.175928</td>\n",
       "    </tr>\n",
       "    <tr>\n",
       "      <th>...</th>\n",
       "      <td>...</td>\n",
       "      <td>...</td>\n",
       "      <td>...</td>\n",
       "      <td>...</td>\n",
       "      <td>...</td>\n",
       "    </tr>\n",
       "    <tr>\n",
       "      <th>193</th>\n",
       "      <td>[JUMBO BAG RED RETROSPOT, JUMBO BAG PINK POLKA...</td>\n",
       "      <td>[JUMBO SHOPPER VINTAGE RED PAISLEY, nan]</td>\n",
       "      <td>0.029403</td>\n",
       "      <td>0.459096</td>\n",
       "      <td>5.039421</td>\n",
       "    </tr>\n",
       "    <tr>\n",
       "      <th>122</th>\n",
       "      <td>[LUNCH BAG CARS BLUE, LUNCH BAG SPACEBOY DESIGN]</td>\n",
       "      <td>[LUNCH BAG RED RETROSPOT]</td>\n",
       "      <td>0.022599</td>\n",
       "      <td>0.604603</td>\n",
       "      <td>5.017298</td>\n",
       "    </tr>\n",
       "    <tr>\n",
       "      <th>375</th>\n",
       "      <td>[LUNCH BAG CARS BLUE, LUNCH BAG SPACEBOY DESIG...</td>\n",
       "      <td>[LUNCH BAG RED RETROSPOT]</td>\n",
       "      <td>0.022521</td>\n",
       "      <td>0.603774</td>\n",
       "      <td>5.010420</td>\n",
       "    </tr>\n",
       "    <tr>\n",
       "      <th>370</th>\n",
       "      <td>[LUNCH BAG CARS BLUE, LUNCH BAG SPACEBOY DESIGN]</td>\n",
       "      <td>[LUNCH BAG RED RETROSPOT, nan]</td>\n",
       "      <td>0.022521</td>\n",
       "      <td>0.602510</td>\n",
       "      <td>5.003184</td>\n",
       "    </tr>\n",
       "    <tr>\n",
       "      <th>21</th>\n",
       "      <td>[JUMBO SHOPPER VINTAGE RED PAISLEY, JUMBO BAG ...</td>\n",
       "      <td>[JUMBO BAG RED RETROSPOT]</td>\n",
       "      <td>0.029481</td>\n",
       "      <td>0.807281</td>\n",
       "      <td>5.001697</td>\n",
       "    </tr>\n",
       "  </tbody>\n",
       "</table>\n",
       "<p>485 rows × 5 columns</p>\n",
       "</div>"
      ],
      "text/plain": [
       "                                                     A  \\\n",
       "13   [REGENCY CAKESTAND 3 TIER, ROSES REGENCY TEACU...   \n",
       "10                   [GREEN REGENCY TEACUP AND SAUCER]   \n",
       "180  [REGENCY CAKESTAND 3 TIER, nan, ROSES REGENCY ...   \n",
       "173                  [GREEN REGENCY TEACUP AND SAUCER]   \n",
       "177  [REGENCY CAKESTAND 3 TIER, ROSES REGENCY TEACU...   \n",
       "..                                                 ...   \n",
       "193  [JUMBO BAG RED RETROSPOT, JUMBO BAG PINK POLKA...   \n",
       "122   [LUNCH BAG CARS BLUE, LUNCH BAG SPACEBOY DESIGN]   \n",
       "375  [LUNCH BAG CARS BLUE, LUNCH BAG SPACEBOY DESIG...   \n",
       "370   [LUNCH BAG CARS BLUE, LUNCH BAG SPACEBOY DESIGN]   \n",
       "21   [JUMBO SHOPPER VINTAGE RED PAISLEY, JUMBO BAG ...   \n",
       "\n",
       "                                                     B   suporte  confianca  \\\n",
       "13                   [GREEN REGENCY TEACUP AND SAUCER]  0.029715   0.777096   \n",
       "10   [REGENCY CAKESTAND 3 TIER, ROSES REGENCY TEACU...  0.029715   0.389744   \n",
       "180                  [GREEN REGENCY TEACUP AND SAUCER]  0.029637   0.776639   \n",
       "173  [REGENCY CAKESTAND 3 TIER, nan, ROSES REGENCY ...  0.029637   0.388718   \n",
       "177             [GREEN REGENCY TEACUP AND SAUCER, nan]  0.029637   0.775051   \n",
       "..                                                 ...       ...        ...   \n",
       "193           [JUMBO SHOPPER VINTAGE RED PAISLEY, nan]  0.029403   0.459096   \n",
       "122                          [LUNCH BAG RED RETROSPOT]  0.022599   0.604603   \n",
       "375                          [LUNCH BAG RED RETROSPOT]  0.022521   0.603774   \n",
       "370                     [LUNCH BAG RED RETROSPOT, nan]  0.022521   0.602510   \n",
       "21                           [JUMBO BAG RED RETROSPOT]  0.029481   0.807281   \n",
       "\n",
       "          lift  \n",
       "13   10.192313  \n",
       "10   10.192313  \n",
       "180  10.186322  \n",
       "173  10.186322  \n",
       "177  10.175928  \n",
       "..         ...  \n",
       "193   5.039421  \n",
       "122   5.017298  \n",
       "375   5.010420  \n",
       "370   5.003184  \n",
       "21    5.001697  \n",
       "\n",
       "[485 rows x 5 columns]"
      ]
     },
     "execution_count": 27,
     "metadata": {},
     "output_type": "execute_result"
    }
   ],
   "source": [
    "# Exibindo o dataframe com as regras, ordenado de forma descrescente pelo lift\n",
    "rules_df = pd.DataFrame({\"A\": A, \"B\": B, \"suporte\": suporte, \"confianca\": confianca, \"lift\": lift})\n",
    "rules_df.sort_values(by = \"lift\", ascending = False)"
   ]
  }
 ],
 "metadata": {
  "kernelspec": {
   "display_name": "base",
   "language": "python",
   "name": "python3"
  },
  "language_info": {
   "codemirror_mode": {
    "name": "ipython",
    "version": 3
   },
   "file_extension": ".py",
   "mimetype": "text/x-python",
   "name": "python",
   "nbconvert_exporter": "python",
   "pygments_lexer": "ipython3",
   "version": "3.12.7"
  }
 },
 "nbformat": 4,
 "nbformat_minor": 5
}
