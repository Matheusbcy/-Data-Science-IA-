{
 "cells": [
  {
   "cell_type": "code",
   "execution_count": null,
   "id": "bf25b196",
   "metadata": {},
   "outputs": [],
   "source": [
    "import pickle\n",
    "\n",
    "import numpy as np\n",
    "import pandas as pd\n",
    "import seaborn as sns\n",
    "\n",
    "from scipy.stats import f_oneway, shapiro\n",
    "from sklearn.ensemble import RandomForestClassifier\n",
    "from sklearn.linear_model import LogisticRegression\n",
    "from sklearn.model_selection import cross_val_score, train_test_split, GridSearchCV, KFold\n",
    "from sklearn.neighbors import KNeighborsClassifier\n",
    "from sklearn.neural_network import MLPClassifier\n",
    "from sklearn.svm import SVC\n",
    "from sklearn.tree import DecisionTreeClassifier\n",
    "from statsmodels.stats.multicomp import MultiComparison"
   ]
  },
  {
   "cell_type": "markdown",
   "id": "8b2efada",
   "metadata": {},
   "source": [
    "## Prepração dos dados"
   ]
  },
  {
   "cell_type": "code",
   "execution_count": null,
   "id": "ff1f55a6",
   "metadata": {},
   "outputs": [],
   "source": [
    "with open(\"cover_type.pkl\", \"rb\") as f:\n",
    "    X_cover_train, y_cover_train, X_cover_teste, y_cover_teste = pickle.load(f)"
   ]
  },
  {
   "cell_type": "code",
   "execution_count": null,
   "id": "54e88037",
   "metadata": {},
   "outputs": [],
   "source": [
    "X_cover_train.shape, y_cover_train.shape"
   ]
  },
  {
   "cell_type": "code",
   "execution_count": null,
   "id": "3e26ba2a",
   "metadata": {},
   "outputs": [],
   "source": [
    "X_cover_teste.shape, y_cover_teste.shape"
   ]
  },
  {
   "cell_type": "code",
   "execution_count": null,
   "id": "64051443",
   "metadata": {},
   "outputs": [],
   "source": [
    "X_cover = np.concatenate((X_cover_train, X_cover_teste), axis = 0)\n",
    "y_cover = np.concatenate((y_cover_train, y_cover_teste), axis = 0)"
   ]
  },
  {
   "cell_type": "code",
   "execution_count": null,
   "id": "cc89a6a5",
   "metadata": {},
   "outputs": [],
   "source": [
    "X_cover.shape, y_cover.shape"
   ]
  },
  {
   "cell_type": "markdown",
   "id": "5966a5cd",
   "metadata": {},
   "source": [
    "### Arvore de decisão"
   ]
  },
  {
   "cell_type": "code",
   "execution_count": null,
   "id": "aa579105",
   "metadata": {},
   "outputs": [],
   "source": [
    "parametros = {\n",
    "    \"criterion\": [\"gini\", \"entropy\"],\n",
    "    \"max_depth\": [3, 5, 10, None],\n",
    "    \"min_samples_split\": [2, 5, 10, 20],\n",
    "    \"min_samples_leaf\": [1, 2, 5, 10],\n",
    "    \"max_features\": [\"sqrt\", \"log2\"],\n",
    "    \"splitter\": [\"best\", \"random\"],\n",
    "}"
   ]
  },
  {
   "cell_type": "code",
   "execution_count": null,
   "id": "c0b181b9",
   "metadata": {},
   "outputs": [],
   "source": [
    "grid_search = GridSearchCV(estimator=DecisionTreeClassifier(), param_grid = parametros)\n",
    "grid_search.fit(X_cover, y_cover)\n",
    "best_params = grid_search.best_params_\n",
    "best_result = grid_search.best_score_\n",
    "print(best_params, best_result)"
   ]
  },
  {
   "cell_type": "markdown",
   "id": "05ad87b1",
   "metadata": {},
   "source": [
    "### Random forest"
   ]
  },
  {
   "cell_type": "code",
   "execution_count": 23,
   "id": "2e85eefa",
   "metadata": {},
   "outputs": [],
   "source": [
    "parametros = {\n",
    "    \"n_estimators\": [100, 200, 300],  # número de árvores na floresta\n",
    "    \"criterion\": [\"gini\", \"entropy\"],  # função de avaliação da qualidade da divisão\n",
    "    \"max_depth\": [3, 5, 10, None],  # profundidade máxima da árvore\n",
    "    \"min_samples_split\": [2, 5, 10, 20],  # mínimo de amostras para dividir um nó\n",
    "    \"min_samples_leaf\": [1, 2, 5, 10],  # mínimo de amostras em uma folha\n",
    "}"
   ]
  },
  {
   "cell_type": "code",
   "execution_count": null,
   "id": "b850f078",
   "metadata": {},
   "outputs": [],
   "source": [
    "grid_search = GridSearchCV(estimator=RandomForestClassifier(), param_grid = parametros)\n",
    "grid_search.fit(X_cover, y_cover)\n",
    "best_params = grid_search.best_params_\n",
    "best_result = grid_search.best_score_\n",
    "print(best_params, best_result)"
   ]
  },
  {
   "cell_type": "markdown",
   "id": "fd96986f",
   "metadata": {},
   "source": [
    "### kNN"
   ]
  },
  {
   "cell_type": "code",
   "execution_count": null,
   "id": "1b92530f",
   "metadata": {},
   "outputs": [],
   "source": [
    "parametros = {\n",
    "    \"n_neighbors\": [3, 5, 7, 9, 11],  # número de vizinhos a considerar\n",
    "    \"weights\": [\"uniform\", \"distance\"],  # pesos dos vizinhos\n",
    "    \"algorithm\": [\"auto\", \"ball_tree\", \"kd_tree\", \"brute\"],  # algoritmo usado para computar os vizinhos\n",
    "    \"p\": [1, 2],  # parâmetro para a métrica de distância (1 = Manhattan, 2 = Euclidiana)\n",
    "    \"leaf_size\": [10, 20, 30, 40, 50]  # tamanho das folhas (afeta desempenho, não acurácia)\n",
    "}"
   ]
  },
  {
   "cell_type": "code",
   "execution_count": null,
   "id": "ced43a7c",
   "metadata": {},
   "outputs": [],
   "source": [
    "grid_search = GridSearchCV(estimator=KNeighborsClassifier(), param_grid = parametros)\n",
    "grid_search.fit(X_cover, y_cover)\n",
    "best_params = grid_search.best_params_\n",
    "best_result = grid_search.best_score_\n",
    "print(best_params, best_result)"
   ]
  },
  {
   "cell_type": "markdown",
   "id": "d42c3e93",
   "metadata": {},
   "source": [
    "### Regressão Logistica"
   ]
  },
  {
   "cell_type": "code",
   "execution_count": null,
   "id": "6959c00e",
   "metadata": {},
   "outputs": [],
   "source": [
    "parametros = {\n",
    "    \"penalty\": [\"l1\", \"l2\", \"elasticnet\", None],  # tipo de regularização\n",
    "    \"C\": [0.01, 0.1, 1, 10, 100],  # força da regularização (quanto menor, mais forte)\n",
    "    \"solver\": [\"liblinear\", \"saga\", \"lbfgs\", \"newton-cg\"],  # algoritmo para otimização\n",
    "    \"max_iter\": [100, 200, 500],  # número máximo de iterações\n",
    "    \"class_weight\": [None, \"balanced\"],  # lida com classes desbalanceadas\n",
    "    \"l1_ratio\": [0, 0.5, 1]  # usado apenas quando penalty=\"elasticnet\"\n",
    "}"
   ]
  },
  {
   "cell_type": "code",
   "execution_count": null,
   "id": "70af04cd",
   "metadata": {},
   "outputs": [],
   "source": [
    "grid_search = GridSearchCV(estimator=LogisticRegression(), param_grid = parametros)\n",
    "grid_search.fit(X_cover, y_cover)\n",
    "best_params = grid_search.best_params_\n",
    "best_result = grid_search.best_score_\n",
    "print(best_params, best_result)"
   ]
  },
  {
   "cell_type": "markdown",
   "id": "3e66dd2e",
   "metadata": {},
   "source": [
    "### SVM"
   ]
  },
  {
   "cell_type": "code",
   "execution_count": null,
   "id": "eba036c1",
   "metadata": {},
   "outputs": [],
   "source": [
    "parametros = {\n",
    "    \"C\": [0.1, 1, 10, 100],  # penalidade por erro (controle de overfitting)\n",
    "    \"kernel\": [\"linear\", \"poly\", \"rbf\", \"sigmoid\"],  # tipo de função do kernel\n",
    "    \"degree\": [2, 3, 4],  # grau do polinômio (usado apenas se kernel=\"poly\")\n",
    "    \"gamma\": [\"scale\", \"auto\", 0.01, 0.1, 1],  # parâmetro do kernel RBF, poly e sigmoid\n",
    "    \"coef0\": [0.0, 0.1, 0.5, 1.0],  # coeficiente usado nos kernels poly e sigmoid\n",
    "    \"class_weight\": [None, \"balanced\"],  # tratamento de classes desbalanceadas\n",
    "    \"shrinking\": [True, False],  # se usa heurística de shrinking (pode melhorar performance)\n",
    "    \"probability\": [False, True],  # se deve calibrar para estimar probabilidades (mais lento)\n",
    "}"
   ]
  },
  {
   "cell_type": "markdown",
   "id": "3d975ba8",
   "metadata": {},
   "source": [
    "### Redes Neurais"
   ]
  },
  {
   "cell_type": "code",
   "execution_count": null,
   "id": "fcf46f3b",
   "metadata": {},
   "outputs": [],
   "source": [
    "parametros = {\n",
    "    \"hidden_layer_sizes\": [(50,), (100,), (100, 50), (50, 50, 50)],  # tamanho e número de camadas ocultas\n",
    "    \"activation\": [\"identity\", \"logistic\", \"tanh\", \"relu\"],  # função de ativação\n",
    "    \"solver\": [\"lbfgs\", \"sgd\", \"adam\"],  # algoritmo de otimização\n",
    "    \"alpha\": [0.0001, 0.001, 0.01, 0.1],  # parâmetro de regularização L2\n",
    "    \"learning_rate\": [\"constant\", \"invscaling\", \"adaptive\"],  # estratégia de ajuste da taxa de aprendizado\n",
    "    \"learning_rate_init\": [0.001, 0.01, 0.1],  # taxa de aprendizado inicial\n",
    "    \"max_iter\": [200, 300, 500, 1000, 2000],  # número máximo de iterações\n",
    "    \"early_stopping\": [True, False],  # interrompe se não houver melhora no score\n",
    "}"
   ]
  },
  {
   "cell_type": "code",
   "execution_count": null,
   "id": "f38c37f8",
   "metadata": {},
   "outputs": [],
   "source": [
    "grid_search = GridSearchCV(estimator=MLPClassifier(), param_grid = parametros)\n",
    "grid_search.fit(X_cover, y_cover)\n",
    "best_params = grid_search.best_params_\n",
    "best_result = grid_search.best_score_\n",
    "print(best_params, best_result)"
   ]
  }
 ],
 "metadata": {
  "kernelspec": {
   "display_name": "base",
   "language": "python",
   "name": "python3"
  },
  "language_info": {
   "codemirror_mode": {
    "name": "ipython",
    "version": 3
   },
   "file_extension": ".py",
   "mimetype": "text/x-python",
   "name": "python",
   "nbconvert_exporter": "python",
   "pygments_lexer": "ipython3",
   "version": "3.12.7"
  }
 },
 "nbformat": 4,
 "nbformat_minor": 5
}
