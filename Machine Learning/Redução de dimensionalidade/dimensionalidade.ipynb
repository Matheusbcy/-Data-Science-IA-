{
 "cells": [
  {
   "cell_type": "code",
   "execution_count": 1,
   "id": "c6034060",
   "metadata": {},
   "outputs": [],
   "source": [
    "import pickle\n",
    "\n",
    "from sklearn.decomposition import KernelPCA, PCA\n",
    "from sklearn.discriminant_analysis import LinearDiscriminantAnalysis\n",
    "from sklearn.ensemble import RandomForestClassifier\n",
    "from sklearn.metrics import accuracy_score, classification_report\n",
    "from sklearn.model_selection import train_test_split"
   ]
  },
  {
   "cell_type": "code",
   "execution_count": null,
   "id": "44c65d2c",
   "metadata": {},
   "outputs": [],
   "source": [
    "# Abre o arquivo com os dados salvos\n",
    "with open(\"cover_type.pkl\", \"rb\") as f:\n",
    "    X_cover_treinamento, y_cover_treinamento, X_cover_teste, y_cover_teste = pickle.load(f)"
   ]
  },
  {
   "cell_type": "code",
   "execution_count": null,
   "id": "9fe939f7",
   "metadata": {},
   "outputs": [],
   "source": [
    "# Junta os dados de treino em uma única variável (X e y)\n",
    "X_cover, y_cover = X_cover_treinamento, y_cover_treinamento\n",
    "\n",
    "# Separa 25% dos dados para teste e o restante para treino\n",
    "X_treino, X_teste, y_treino, y_teste = train_test_split(\n",
    "    X_cover,\n",
    "    y_cover,\n",
    "    test_size=0.25,\n",
    "    random_state=42,\n",
    ")"
   ]
  },
  {
   "cell_type": "code",
   "execution_count": null,
   "id": "8c75978d",
   "metadata": {},
   "outputs": [],
   "source": [
    "# Criando modelo PCA com 6 componentes\n",
    "pca = PCA(n_components = 6)\n",
    "X_train_pca = pca.fit_transform(X_treino)\n",
    "X_test_pca = pca.transform(X_teste)"
   ]
  },
  {
   "cell_type": "code",
   "execution_count": null,
   "id": "0a194b7d",
   "metadata": {},
   "outputs": [
    {
     "data": {
      "text/plain": [
       "array([0.22618668, 0.19513855, 0.15016139, 0.10259524, 0.06892279,\n",
       "       0.05111358])"
      ]
     },
     "execution_count": 13,
     "metadata": {},
     "output_type": "execute_result"
    }
   ],
   "source": [
    "# Mostrando a porcentagem da variância explicada por cada componente principal\n",
    "pca.explained_variance_ratio_"
   ]
  },
  {
   "cell_type": "code",
   "execution_count": null,
   "id": "21a585cb",
   "metadata": {},
   "outputs": [
    {
     "data": {
      "text/plain": [
       "np.float64(0.7941182271065695)"
      ]
     },
     "execution_count": 14,
     "metadata": {},
     "output_type": "execute_result"
    }
   ],
   "source": [
    "# Soma da variância total explicada pelos 6 componentes principais\n",
    "pca.explained_variance_ratio_.sum()"
   ]
  },
  {
   "cell_type": "code",
   "execution_count": null,
   "id": "fa856b1f",
   "metadata": {},
   "outputs": [
    {
     "name": "stdout",
     "output_type": "stream",
     "text": [
      "Accuracy: 0.7003\n"
     ]
    }
   ],
   "source": [
    "# Criando o classificador Random Forest com 40 árvores\n",
    "tree_classifier = RandomForestClassifier(n_estimators = 40, random_state = 42)\n",
    "tree_classifier.fit(X_train_pca, y_treino)\n",
    "y_pred = tree_classifier.predict(X_test_pca)\n",
    "accuracy = accuracy_score(y_teste, y_pred)\n",
    "print(f\"Accuracy: {accuracy:.4f}\")"
   ]
  },
  {
   "cell_type": "markdown",
   "id": "9f1b8e15",
   "metadata": {},
   "source": [
    "### Kernel PCA"
   ]
  },
  {
   "cell_type": "code",
   "execution_count": null,
   "id": "fec9093b",
   "metadata": {},
   "outputs": [
    {
     "name": "stdout",
     "output_type": "stream",
     "text": [
      "Accuracy with Kernel PCA: 0.6987\n"
     ]
    }
   ],
   "source": [
    "# Criando modelo Kernel PCA com 6 componentes\n",
    "kpca = KernelPCA(n_components = 6)\n",
    "X_train_kpca = kpca.fit_transform(X_treino)\n",
    "X_test_kpca = kpca.transform(X_teste)\n",
    "tree_classifier_kpca = RandomForestClassifier(n_estimators = 40, random_state = 42)\n",
    "tree_classifier_kpca.fit(X_train_kpca, y_treino)\n",
    "y_pred_kpca = tree_classifier_kpca.predict(X_test_kpca)\n",
    "accuracy_kpca = accuracy_score(y_teste, y_pred_kpca)\n",
    "print(f\"Accuracy with Kernel PCA: {accuracy_kpca:.4f}\")"
   ]
  },
  {
   "cell_type": "markdown",
   "id": "6fb30886",
   "metadata": {},
   "source": [
    "### LDA"
   ]
  },
  {
   "cell_type": "code",
   "execution_count": null,
   "id": "772bc91d",
   "metadata": {},
   "outputs": [
    {
     "name": "stdout",
     "output_type": "stream",
     "text": [
      "Accuracy with LDA: 0.7269\n"
     ]
    }
   ],
   "source": [
    "# Criando modelo LDA com 6 componentes (ajuste para <= número de classes -1)\n",
    "lda = LinearDiscriminantAnalysis(n_components=6)\n",
    "X_train_lda = lda.fit_transform(X_treino, y_treino)\n",
    "X_test_lda = lda.transform(X_teste)\n",
    "tree_classifier_lda = RandomForestClassifier(n_estimators=40, random_state=42)\n",
    "tree_classifier_lda.fit(X_train_lda, y_treino)\n",
    "y_pred_lda = tree_classifier_lda.predict(X_test_lda)\n",
    "accuracy_lda = accuracy_score(y_teste, y_pred_lda)\n",
    "print(f\"Accuracy with LDA: {accuracy_lda:.4f}\")"
   ]
  }
 ],
 "metadata": {
  "kernelspec": {
   "display_name": "spacy_env",
   "language": "python",
   "name": "python3"
  },
  "language_info": {
   "codemirror_mode": {
    "name": "ipython",
    "version": 3
   },
   "file_extension": ".py",
   "mimetype": "text/x-python",
   "name": "python",
   "nbconvert_exporter": "python",
   "pygments_lexer": "ipython3",
   "version": "3.10.18"
  }
 },
 "nbformat": 4,
 "nbformat_minor": 5
}
