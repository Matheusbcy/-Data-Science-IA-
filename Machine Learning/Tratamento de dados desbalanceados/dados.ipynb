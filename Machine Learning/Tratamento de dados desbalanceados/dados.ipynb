{
 "cells": [
  {
   "cell_type": "code",
   "execution_count": null,
   "id": "f72202bf",
   "metadata": {},
   "outputs": [],
   "source": [
    "import pickle\n",
    "\n",
    "import matplotlib.pyplot as plt\n",
    "import numpy as np\n",
    "import pandas as pd\n",
    "import seaborn as sns\n",
    "\n",
    "from imblearn.over_sampling import SMOTE\n",
    "from imblearn.under_sampling import TomekLinks\n",
    "from sklearn.ensemble import RandomForestClassifier\n",
    "from sklearn.metrics import accuracy_score, classification_report"
   ]
  },
  {
   "cell_type": "code",
   "execution_count": 12,
   "id": "71217c4a",
   "metadata": {},
   "outputs": [
    {
     "data": {
      "image/png": "[encoded data removed]",
      "text/plain": [
       "<Figure size 640x480 with 1 Axes>"
      ]
     },
     "metadata": {},
     "output_type": "display_data"
    }
   ],
   "source": [
    "database = pd.read_csv(\"cov_types.csv\")\n",
    "sns.countplot(x = database[\"Cover_Type\"])\n",
    "plt.xticks(rotation = 45, ha=\"right\")\n",
    "plt.show()"
   ]
  },
  {
   "cell_type": "code",
   "execution_count": 17,
   "id": "594cb712",
   "metadata": {},
   "outputs": [],
   "source": [
    "with open(\"cover_type.pkl\", \"rb\") as f:\n",
    "    X_cover_train, y_cover_train, X_cover_test, y_cover_test = pickle.load(f)"
   ]
  },
  {
   "cell_type": "markdown",
   "id": "6c988516",
   "metadata": {},
   "source": [
    "## Subamostragem com Tomek Links"
   ]
  },
  {
   "cell_type": "code",
   "execution_count": 20,
   "id": "e5477615",
   "metadata": {},
   "outputs": [],
   "source": [
    "tl = TomekLinks(sampling_strategy = \"all\")\n",
    "X_under, y_under = tl.fit_resample(X_cover_train, y_cover_train)"
   ]
  },
  {
   "cell_type": "code",
   "execution_count": 22,
   "id": "d9b4e19e",
   "metadata": {},
   "outputs": [
    {
     "data": {
      "text/plain": [
       "(array([0, 1, 2, 3, 4, 5, 6]),\n",
       " array([ 129,   39,  211,  275, 3617,  425, 2804]))"
      ]
     },
     "execution_count": 22,
     "metadata": {},
     "output_type": "execute_result"
    }
   ],
   "source": [
    "np.unique(y_cover_train, return_counts = True)"
   ]
  },
  {
   "cell_type": "code",
   "execution_count": 23,
   "id": "d81966b7",
   "metadata": {},
   "outputs": [
    {
     "data": {
      "text/plain": [
       "(array([0, 1, 2, 3, 4, 5, 6]),\n",
       " array([  96,   33,  165,  253, 3333,  378, 2552]))"
      ]
     },
     "execution_count": 23,
     "metadata": {},
     "output_type": "execute_result"
    }
   ],
   "source": [
    "np.unique(y_under, return_counts = True)"
   ]
  },
  {
   "cell_type": "code",
   "execution_count": 26,
   "id": "b3428eb4",
   "metadata": {},
   "outputs": [],
   "source": [
    "tree_classifier = RandomForestClassifier(criterion = \"entropy\", min_samples_leaf = 1, min_samples_split = 5, n_estimators = 100)\n",
    "tree_classifier.fit(X_under, y_under)\n",
    "prev = tree_classifier.predict(X_cover_test)"
   ]
  },
  {
   "cell_type": "code",
   "execution_count": 28,
   "id": "49d39aae",
   "metadata": {},
   "outputs": [
    {
     "data": {
      "text/plain": [
       "0.7984"
      ]
     },
     "execution_count": 28,
     "metadata": {},
     "output_type": "execute_result"
    }
   ],
   "source": [
    "accuracy_score(y_cover_test, prev)"
   ]
  },
  {
   "cell_type": "code",
   "execution_count": 30,
   "id": "a29ac4a8",
   "metadata": {},
   "outputs": [
    {
     "name": "stdout",
     "output_type": "stream",
     "text": [
      "              precision    recall  f1-score   support\n",
      "\n",
      "           0       0.80      0.12      0.21        34\n",
      "           1       0.73      0.50      0.59        16\n",
      "           2       0.67      0.36      0.47        67\n",
      "           3       0.90      0.63      0.74        87\n",
      "           4       0.81      0.87      0.84      1230\n",
      "           5       0.70      0.82      0.75       156\n",
      "           6       0.80      0.78      0.79       910\n",
      "\n",
      "    accuracy                           0.80      2500\n",
      "   macro avg       0.77      0.58      0.63      2500\n",
      "weighted avg       0.80      0.80      0.79      2500\n",
      "\n"
     ]
    }
   ],
   "source": [
    "print(classification_report(y_cover_test, prev))"
   ]
  },
  {
   "cell_type": "markdown",
   "id": "9c1d44bb",
   "metadata": {},
   "source": [
    "## Subamostragem com SMOTE"
   ]
  },
  {
   "cell_type": "code",
   "execution_count": 31,
   "id": "439db9c0",
   "metadata": {},
   "outputs": [],
   "source": [
    "smote = SMOTE(sampling_strategy = \"auto\", random_state = 1)\n",
    "X_over, y_over = smote.fit_resample(X_cover_train, y_cover_train)"
   ]
  },
  {
   "cell_type": "code",
   "execution_count": 34,
   "id": "f014140d",
   "metadata": {},
   "outputs": [],
   "source": [
    "tree_classifier = RandomForestClassifier(criterion = \"entropy\", min_samples_leaf = 1, min_samples_split = 5, n_estimators = 100)\n",
    "tree_classifier.fit(X_over, y_over)\n",
    "prev = tree_classifier.predict(X_cover_test)"
   ]
  },
  {
   "cell_type": "code",
   "execution_count": 35,
   "id": "337f0984",
   "metadata": {},
   "outputs": [
    {
     "data": {
      "text/plain": [
       "0.8032"
      ]
     },
     "execution_count": 35,
     "metadata": {},
     "output_type": "execute_result"
    }
   ],
   "source": [
    "accuracy_score(y_cover_test, tree_classifier.predict(X_cover_test))"
   ]
  },
  {
   "cell_type": "code",
   "execution_count": 36,
   "id": "14a56e32",
   "metadata": {},
   "outputs": [
    {
     "name": "stdout",
     "output_type": "stream",
     "text": [
      "              precision    recall  f1-score   support\n",
      "\n",
      "           0       0.56      0.59      0.57        34\n",
      "           1       0.50      0.69      0.58        16\n",
      "           2       0.58      0.58      0.58        67\n",
      "           3       0.80      0.79      0.80        87\n",
      "           4       0.85      0.82      0.83      1230\n",
      "           5       0.73      0.83      0.78       156\n",
      "           6       0.79      0.80      0.80       910\n",
      "\n",
      "    accuracy                           0.80      2500\n",
      "   macro avg       0.69      0.73      0.71      2500\n",
      "weighted avg       0.81      0.80      0.80      2500\n",
      "\n"
     ]
    }
   ],
   "source": [
    "print(classification_report(y_cover_test, prev))"
   ]
  },
  {
   "cell_type": "code",
   "execution_count": null,
   "id": "50651765",
   "metadata": {},
   "outputs": [],
   "source": []
  }
 ],
 "metadata": {
  "kernelspec": {
   "display_name": "spacy_env",
   "language": "python",
   "name": "python3"
  },
  "language_info": {
   "codemirror_mode": {
    "name": "ipython",
    "version": 3
   },
   "file_extension": ".py",
   "mimetype": "text/x-python",
   "name": "python",
   "nbconvert_exporter": "python",
   "pygments_lexer": "ipython3",
   "version": "3.10.18"
  }
 },
 "nbformat": 4,
 "nbformat_minor": 5
}
