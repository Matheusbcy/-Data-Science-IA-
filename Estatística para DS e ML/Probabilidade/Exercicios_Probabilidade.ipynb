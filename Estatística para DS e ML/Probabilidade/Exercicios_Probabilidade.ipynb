{
  "nbformat": 4,
  "nbformat_minor": 0,
  "metadata": {
    "colab": {
      "provenance": [],
      "authorship_tag": "ABX9TyN/qMWWOLBbMwkNI7fARBJp",
      "include_colab_link": true
    },
    "kernelspec": {
      "name": "python3",
      "display_name": "Python 3"
    },
    "language_info": {
      "name": "python"
    }
  },
  "cells": [
    {
      "cell_type": "markdown",
      "metadata": {
        "id": "view-in-github",
        "colab_type": "text"
      },
      "source": [
        "<a href=\"https://colab.research.google.com/github/Matheusbcy/-Data-Science-IA-/blob/main/Exercicios_Probabilidade.ipynb\" target=\"_parent\"><img src=\"https://colab.research.google.com/assets/colab-badge.svg\" alt=\"Open In Colab\"/></a>"
      ]
    },
    {
      "cell_type": "markdown",
      "source": [
        "# Probabilidade e distribuição normal"
      ],
      "metadata": {
        "id": "9HT82zLg63Ea"
      }
    },
    {
      "cell_type": "markdown",
      "source": [
        "## Exercicio 1\n",
        "\n",
        "* 70% das pessoas que compraram o livro de Python são mulheres. Se 10 leitores\n",
        "forem selecionados randomicamente, qual a probabilidade de selecionar 7 mulheres"
      ],
      "metadata": {
        "id": "4Uy6hpuXzGWO"
      }
    },
    {
      "cell_type": "code",
      "source": [
        "n = 10\n",
        "x = 7\n",
        "p = 0.7"
      ],
      "metadata": {
        "id": "6P4KIchBzmwq"
      },
      "execution_count": 1,
      "outputs": []
    },
    {
      "cell_type": "code",
      "source": [
        "import math\n",
        "from scipy import stats"
      ],
      "metadata": {
        "id": "sfhZX8pyzurx"
      },
      "execution_count": 6,
      "outputs": []
    },
    {
      "cell_type": "code",
      "source": [
        "(math.factorial(n) / (math.factorial(n - x) * math.factorial(x))) * math.pow(p, x) * math.pow(1 - p, n - x)"
      ],
      "metadata": {
        "colab": {
          "base_uri": "https://localhost:8080/"
        },
        "id": "nr-0yD9SzvoT",
        "outputId": "239d126a-a7d2-4e56-a130-661de9eae311"
      },
      "execution_count": 3,
      "outputs": [
        {
          "output_type": "execute_result",
          "data": {
            "text/plain": [
              "0.266827932"
            ]
          },
          "metadata": {},
          "execution_count": 3
        }
      ]
    },
    {
      "cell_type": "code",
      "source": [
        "stats.binom.pmf(x, n, p)"
      ],
      "metadata": {
        "colab": {
          "base_uri": "https://localhost:8080/"
        },
        "id": "bvKV3kBl0B6i",
        "outputId": "1f7341fc-1471-4764-8078-c57969305b34"
      },
      "execution_count": 7,
      "outputs": [
        {
          "output_type": "execute_result",
          "data": {
            "text/plain": [
              "np.float64(0.26682793200000005)"
            ]
          },
          "metadata": {},
          "execution_count": 7
        }
      ]
    },
    {
      "cell_type": "markdown",
      "source": [
        "## Exercicio 2\n",
        "\n",
        "* Em uma linha de produção de uma fábrica de parafusos, a probabilidade de obter um parafuso defeituoso é 0.05. Tendo uma amostra de 50 peças, qual a probabilidade de obter\n",
        "\n",
        "1.   Um parafuso defeituoso\n",
        "2.   Nenhum parafuso defeituoso\n",
        "\n"
      ],
      "metadata": {
        "id": "7OFIl5O-zRXn"
      }
    },
    {
      "cell_type": "code",
      "execution_count": 8,
      "metadata": {
        "colab": {
          "base_uri": "https://localhost:8080/"
        },
        "id": "1s9ppr5Sy1_T",
        "outputId": "9681d62b-1c35-4b0a-e781-aa8ce7091ff7"
      },
      "outputs": [
        {
          "output_type": "execute_result",
          "data": {
            "text/plain": [
              "0.202486777043982"
            ]
          },
          "metadata": {},
          "execution_count": 8
        }
      ],
      "source": [
        "# Um parafuso defeituoso\n",
        "p = 0.05\n",
        "n = 50\n",
        "x = 1\n",
        "\n",
        "(math.factorial(n) / (math.factorial(n - x) * math.factorial(x))) * math.pow(p, x) * math.pow(1 - p, n - x)"
      ]
    },
    {
      "cell_type": "code",
      "source": [
        "stats.binom.pmf(x, n, p)"
      ],
      "metadata": {
        "colab": {
          "base_uri": "https://localhost:8080/"
        },
        "id": "FvGPueKO2I6d",
        "outputId": "8e36eb7b-6a85-4040-d2c8-4722ff694355"
      },
      "execution_count": 9,
      "outputs": [
        {
          "output_type": "execute_result",
          "data": {
            "text/plain": [
              "np.float64(0.2024867770439825)"
            ]
          },
          "metadata": {},
          "execution_count": 9
        }
      ]
    },
    {
      "cell_type": "code",
      "source": [
        "# Nenhum parafuso defeituoso\n",
        "p = 0.05\n",
        "n = 50\n",
        "x = 0\n",
        "\n",
        "(math.factorial(n) / (math.factorial(n - x) * math.factorial(x))) * math.pow(p, x) * math.pow(1 - p, n - x)"
      ],
      "metadata": {
        "colab": {
          "base_uri": "https://localhost:8080/"
        },
        "id": "mPo9ArOe2KQ1",
        "outputId": "6ba3d1cf-d19d-44a5-937b-5b69c0d938c6"
      },
      "execution_count": 10,
      "outputs": [
        {
          "output_type": "execute_result",
          "data": {
            "text/plain": [
              "0.07694497527671315"
            ]
          },
          "metadata": {},
          "execution_count": 10
        }
      ]
    },
    {
      "cell_type": "code",
      "source": [
        "stats.binom.pmf(x, n, p)"
      ],
      "metadata": {
        "colab": {
          "base_uri": "https://localhost:8080/"
        },
        "id": "sWXhqSuS2Ppr",
        "outputId": "975abfbe-9152-4d64-b6ce-672b99b942ed"
      },
      "execution_count": 11,
      "outputs": [
        {
          "output_type": "execute_result",
          "data": {
            "text/plain": [
              "np.float64(0.07694497527671336)"
            ]
          },
          "metadata": {},
          "execution_count": 11
        }
      ]
    },
    {
      "cell_type": "markdown",
      "source": [
        "# Distribuição de Poisson"
      ],
      "metadata": {
        "id": "Xlzq2QL14WbR"
      }
    },
    {
      "cell_type": "markdown",
      "source": [
        "## Exercicio 1\n",
        "\n",
        "* Em uma linha de produção de uma fábrica de parafusos, a probabilidade é de obeter 0.05 defeitos por UNIDADE. Qual a probabilidade de uma unidade apresentar:\n",
        "\n",
        "1.   Um defeito\n",
        "2.   Nenhum defeito\n",
        "\n"
      ],
      "metadata": {
        "id": "0QKoiV2a59O5"
      }
    },
    {
      "cell_type": "code",
      "source": [
        "# Um defeito\n",
        "\n",
        "x = 1\n",
        "media = 0.05\n",
        "\n",
        "stats.poisson.pmf(x, media) * 100"
      ],
      "metadata": {
        "colab": {
          "base_uri": "https://localhost:8080/"
        },
        "id": "b-3bLHRx6M_8",
        "outputId": "7b6f4f5a-366b-4562-a406-66f42c18b593"
      },
      "execution_count": 21,
      "outputs": [
        {
          "output_type": "execute_result",
          "data": {
            "text/plain": [
              "np.float64(4.756147122503571)"
            ]
          },
          "metadata": {},
          "execution_count": 21
        }
      ]
    },
    {
      "cell_type": "code",
      "source": [
        "# Nenhuma defeito\n",
        "\n",
        "x = 0\n",
        "media = 0.05\n",
        "\n",
        "stats.poisson.pmf(x, media) * 100"
      ],
      "metadata": {
        "colab": {
          "base_uri": "https://localhost:8080/"
        },
        "id": "Vq59-S2Z6SR8",
        "outputId": "cf1ce815-4dff-4ba1-936a-46f913b25564"
      },
      "execution_count": 22,
      "outputs": [
        {
          "output_type": "execute_result",
          "data": {
            "text/plain": [
              "np.float64(95.1229424500714)"
            ]
          },
          "metadata": {},
          "execution_count": 22
        }
      ]
    },
    {
      "cell_type": "markdown",
      "source": [
        "## Exercicio 2\n",
        "\n",
        "* Um vendendor de uma loja vende em média 50 produtos por dia. Qual a probabilidade de vender somente 5 produtos no próximo dia?"
      ],
      "metadata": {
        "id": "a5EgjOdr5IIM"
      }
    },
    {
      "cell_type": "code",
      "source": [
        "x = 5\n",
        "media = 50"
      ],
      "metadata": {
        "id": "Kv8hJEr04YNp"
      },
      "execution_count": 12,
      "outputs": []
    },
    {
      "cell_type": "code",
      "source": [
        "math.pow(math.e, -media) * (math.pow(media, x) / math.factorial(x))"
      ],
      "metadata": {
        "colab": {
          "base_uri": "https://localhost:8080/"
        },
        "id": "ESMPFn5K5Tsh",
        "outputId": "525a265d-b676-4258-c267-24930fd58c55"
      },
      "execution_count": 18,
      "outputs": [
        {
          "output_type": "execute_result",
          "data": {
            "text/plain": [
              "5.022786062406049e-16"
            ]
          },
          "metadata": {},
          "execution_count": 18
        }
      ]
    },
    {
      "cell_type": "code",
      "source": [
        "stats.poisson.pmf(x, media)"
      ],
      "metadata": {
        "colab": {
          "base_uri": "https://localhost:8080/"
        },
        "id": "ReGmPVHy5idY",
        "outputId": "016d55ef-2766-4aba-8cc9-8eb510263ad4"
      },
      "execution_count": 16,
      "outputs": [
        {
          "output_type": "execute_result",
          "data": {
            "text/plain": [
              "np.float64(5.02278606240605e-16)"
            ]
          },
          "metadata": {},
          "execution_count": 16
        }
      ]
    }
  ]
}
