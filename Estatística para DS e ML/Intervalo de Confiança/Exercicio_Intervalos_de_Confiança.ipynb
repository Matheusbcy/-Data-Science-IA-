{
  "nbformat": 4,
  "nbformat_minor": 0,
  "metadata": {
    "colab": {
      "provenance": [],
      "authorship_tag": "ABX9TyMMHefLbIUOo4xL3TTN9Ezi",
      "include_colab_link": true
    },
    "kernelspec": {
      "name": "python3",
      "display_name": "Python 3"
    },
    "language_info": {
      "name": "python"
    }
  },
  "cells": [
    {
      "cell_type": "markdown",
      "metadata": {
        "id": "view-in-github",
        "colab_type": "text"
      },
      "source": [
        "<a href=\"https://colab.research.google.com/github/Matheusbcy/-Data-Science-IA-/blob/main/Exercicio_Intervalos_de_Confian%C3%A7a.ipynb\" target=\"_parent\"><img src=\"https://colab.research.google.com/assets/colab-badge.svg\" alt=\"Open In Colab\"/></a>"
      ]
    },
    {
      "cell_type": "markdown",
      "source": [
        "# Exercicio 1"
      ],
      "metadata": {
        "id": "QAT3JwTuvP_N"
      }
    },
    {
      "cell_type": "markdown",
      "source": [
        "Implemente T Student a base de dados abaixo com a alturas de somente 9 pessoas\n",
        "\n",
        "np.array([149. , 160., 147., 189., 175., 168., 156., 160., 152.])\n",
        "Depois siga o seguinte roteiro:\n",
        "\n",
        "Crie uma nova variável também com alturas de 9 pessoas, porém, com valores diferentes\n",
        "Faça a importação do pacote from scipy.stats import ttest_rel.\n",
        "Realize o teste de hipótese para verificar se as distribuições são ou não são diferentes"
      ],
      "metadata": {
        "id": "25-QwpYFHPK6"
      }
    },
    {
      "cell_type": "code",
      "execution_count": 23,
      "metadata": {
        "id": "c6p9U2iduic2"
      },
      "outputs": [],
      "source": [
        "import numpy as np\n",
        "import math\n",
        "from scipy.stats import norm\n",
        "from scipy.stats import ttest_rel"
      ]
    },
    {
      "cell_type": "code",
      "source": [
        "dados = np.array([149. , 160., 147., 189., 175., 168., 156., 160., 152.])"
      ],
      "metadata": {
        "id": "t0pP7mrYH1c7"
      },
      "execution_count": 2,
      "outputs": []
    },
    {
      "cell_type": "code",
      "source": [
        "H0_media = np.mean(dados)\n",
        "H0_media"
      ],
      "metadata": {
        "colab": {
          "base_uri": "https://localhost:8080/"
        },
        "id": "JLcOxXinH54i",
        "outputId": "366395ba-8bdf-4552-c1ad-6ca41cd1ff0c"
      },
      "execution_count": 4,
      "outputs": [
        {
          "output_type": "execute_result",
          "data": {
            "text/plain": [
              "np.float64(161.77777777777777)"
            ]
          },
          "metadata": {},
          "execution_count": 4
        }
      ]
    },
    {
      "cell_type": "code",
      "source": [
        "H0_desvio_padrao = np.std(dados)\n",
        "H0_desvio_padrao"
      ],
      "metadata": {
        "colab": {
          "base_uri": "https://localhost:8080/"
        },
        "id": "eLWlodzwH9w2",
        "outputId": "05543fab-18a5-44bf-c4a5-93b93cae7ad3"
      },
      "execution_count": 6,
      "outputs": [
        {
          "output_type": "execute_result",
          "data": {
            "text/plain": [
              "np.float64(12.786953227391823)"
            ]
          },
          "metadata": {},
          "execution_count": 6
        }
      ]
    },
    {
      "cell_type": "code",
      "source": [
        "dados_novos = dados * 1.03\n",
        "dados_novos"
      ],
      "metadata": {
        "colab": {
          "base_uri": "https://localhost:8080/"
        },
        "id": "t7iyEmcdICHH",
        "outputId": "1d5d68ab-1b5f-4aa7-e024-e2a1a1985879"
      },
      "execution_count": 7,
      "outputs": [
        {
          "output_type": "execute_result",
          "data": {
            "text/plain": [
              "array([153.47, 164.8 , 151.41, 194.67, 180.25, 173.04, 160.68, 164.8 ,\n",
              "       156.56])"
            ]
          },
          "metadata": {},
          "execution_count": 7
        }
      ]
    },
    {
      "cell_type": "code",
      "source": [
        "alpha = 0.01"
      ],
      "metadata": {
        "id": "zognU1YHIV2d"
      },
      "execution_count": 27,
      "outputs": []
    },
    {
      "cell_type": "code",
      "source": [
        "t_stat, p_valor = ttest_rel(dados, dados_novos, alternative = \"two-sided\")\n",
        "\n",
        "print(f\"T-statistic: {t_stat}\")\n",
        "print(f\"P-valor: {p_valor}\")"
      ],
      "metadata": {
        "colab": {
          "base_uri": "https://localhost:8080/"
        },
        "id": "NvoyjWTrIXfg",
        "outputId": "6e71fd80-bf83-40bb-beac-8ab373c45d27"
      },
      "execution_count": 25,
      "outputs": [
        {
          "output_type": "stream",
          "name": "stdout",
          "text": [
            "T-statistic: -35.784650706911016\n",
            "P-valor: 4.072922493930081e-10\n"
          ]
        }
      ]
    },
    {
      "cell_type": "code",
      "source": [
        "if p_valor < alpha:\n",
        "    print(\"Rejeita H0: há diferença significativa entre as médias.\")\n",
        "else:\n",
        "    print(\"Não rejeita H0: não há diferença significativa entre as médias.\")"
      ],
      "metadata": {
        "colab": {
          "base_uri": "https://localhost:8080/"
        },
        "id": "db61Zq4bIgcz",
        "outputId": "29da5caa-e10c-480c-d69e-568ec35aba6c"
      },
      "execution_count": 28,
      "outputs": [
        {
          "output_type": "stream",
          "name": "stdout",
          "text": [
            "Rejeita H0: há diferença significativa entre as médias.\n"
          ]
        }
      ]
    }
  ]
}
